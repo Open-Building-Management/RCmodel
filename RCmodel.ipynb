{
 "cells": [
  {
   "cell_type": "markdown",
   "metadata": {},
   "source": [
    "# Discrétisation selon un modèle RC\n",
    "\n",
    "\n",
    "<img src=RCmodel.svg>\n",
    "\n",
    "On monitore $T_{int}$ et $T_{ext}$ et aussi $Qc$, ou tout au moins on sait l'estimer. La solution s'exprime de la manière suivante :"
   ]
  },
  {
   "cell_type": "markdown",
   "metadata": {},
   "source": [
    "\\begin{equation}\n",
    "T_{int}(t) = T_{intMonitored}(0) e^{\\frac{-t}{RC}} + \\int_0^t e^{\\frac{-(t-s)}{RC}} ( \\frac{Qc}{C} + \\frac{T_{ext}}{RC}) ds\n",
    "\\end{equation}"
   ]
  },
  {
   "cell_type": "markdown",
   "metadata": {},
   "source": [
    "La fonction à minimiser est :\n",
    "\n",
    "\\begin{equation}\n",
    "F = \\frac{1}{2 N} \\sum_0^N (T_{int}(i) - T_{intMonitored}(i))^2\n",
    "\\end{equation}"
   ]
  },
  {
   "cell_type": "markdown",
   "metadata": {},
   "source": [
    "Les composantes de son gradient sont :\n",
    "\n",
    "\\begin{equation}\n",
    "\\frac{dF}{dR} = \\frac{1}{N} \\sum_{0}^{N} \\frac{dT_{int(i)}}{dR} (T_{int}(i) - T_{intMonitored}(i))\n",
    "\\end{equation}"
   ]
  },
  {
   "cell_type": "markdown",
   "metadata": {},
   "source": [
    "\\begin{equation}\n",
    "\\frac{dF}{dC} = \\frac{1}{N} \\sum_{0}^{N} \\frac{dT_{int(i)}}{dC} (T_{int}(i) - T_{intMonitored}(i))\n",
    "\\end{equation}"
   ]
  },
  {
   "cell_type": "markdown",
   "metadata": {},
   "source": [
    "\\begin{equation}\n",
    "\\frac{dT_{int}(t)}{dR} = \\frac{t}{R^2 C}T_{intMonitored}(0)e^{\\frac{-t}{RC}} + \\int_0^t \\frac{(t-s)}{R^2 C} e^{\\frac{-(t-s)}{RC}} (\\frac{Qc}{C} + \\frac{T_{ext}}{RC}) ds - \\int_0^t e^{\\frac{-(t-s)}{RC}} \\frac{T_{ext}}{R^2 C} ds\n",
    "\\end{equation}"
   ]
  },
  {
   "cell_type": "markdown",
   "metadata": {},
   "source": [
    "\\begin{equation}\n",
    "\\frac{dT_{int}(t)}{dC} = \\frac{t}{R C^2}T_{intMonitored}(0)e^{\\frac{-t}{RC}} + \\int_{0}^{t} \\frac{(t-s)}{R C^2} e^{\\frac{-(t-s)}{RC}} (\\frac{Qc}{C} + \\frac{T_{ext}}{RC}) ds - \\int_0^t e^{\\frac{-(t-s)}{RC}} (\\frac{Qc}{C^2} + \\frac{T_{ext}}{RC^2}) ds\n",
    "\\end{equation}"
   ]
  },
  {
   "cell_type": "markdown",
   "metadata": {},
   "source": [
    "Toutes les intégrales ci-dessous se calculent avec des produits de convolution. On pourra utiliser la fonction `convolve` de numpy"
   ]
  },
  {
   "cell_type": "markdown",
   "metadata": {},
   "source": [
    "# algorithme pas à pas"
   ]
  },
  {
   "cell_type": "markdown",
   "metadata": {},
   "source": [
    "\\begin{equation}\n",
    "T_{int}(t) = T_{intMonitored}(0) e^{\\frac{-t}{RC}} + \\int_0^t e^{\\frac{-(t-s)}{RC}} ( \\frac{Qc}{C} + \\frac{T_{ext}}{RC}) ds\n",
    "\\end{equation}"
   ]
  },
  {
   "cell_type": "markdown",
   "metadata": {},
   "source": [
    "\\begin{equation}\n",
    "T_{int}(t + dt) = T_{intMonitored}(0) e^{\\frac{-t}{RC}} e^{\\frac{-dt}{RC}} + \\int_0^{t+dt} e^{\\frac{-(t+dt-s)}{RC}} ( \\frac{Qc}{C} + \\frac{T_{ext}}{RC}) ds\n",
    "\\end{equation}"
   ]
  },
  {
   "cell_type": "markdown",
   "metadata": {},
   "source": [
    "\\begin{equation}\n",
    "T_{int}(t + dt) = T_{int}(t) e^{\\frac{-dt}{RC}} + \\int_t^{t+dt} e^{\\frac{-(t+dt-s)}{RC}} ( \\frac{Qc}{C} + \\frac{T_{ext}}{RC}) ds\n",
    "\\end{equation}"
   ]
  },
  {
   "cell_type": "markdown",
   "metadata": {},
   "source": [
    "d'après la méthode des trapèzes"
   ]
  },
  {
   "cell_type": "markdown",
   "metadata": {},
   "source": [
    "\\begin{equation}\n",
    "T_{int}(t + dt) = T_{int}(t) e^{\\frac{-dt}{RC}} + \\frac{dt}{2} ((\\frac{Qc}{C} + \\frac{T_{ext}}{RC})(t+dt) + e^{\\frac{-dt}{RC}} ( \\frac{Qc}{C} + \\frac{T_{ext}}{RC})(t) )\n",
    "\\end{equation}"
   ]
  }
 ],
 "metadata": {
  "kernelspec": {
   "display_name": "Python 3",
   "language": "python",
   "name": "python3"
  },
  "language_info": {
   "codemirror_mode": {
    "name": "ipython",
    "version": 3
   },
   "file_extension": ".py",
   "mimetype": "text/x-python",
   "name": "python",
   "nbconvert_exporter": "python",
   "pygments_lexer": "ipython3",
   "version": "3.7.9"
  },
  "latex_metadata": {
   "affiliation": "Dromotherm@Cerema",
   "author": "Alexandre CUER",
   "title": "RC"
  }
 },
 "nbformat": 4,
 "nbformat_minor": 4
}
